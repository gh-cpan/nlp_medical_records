{
 "cells": [
  {
   "cell_type": "code",
   "execution_count": 72,
   "id": "8cda82f7",
   "metadata": {},
   "outputs": [
    {
     "name": "stderr",
     "output_type": "stream",
     "text": [
      "[nltk_data] Downloading package stopwords to /Users/cpan/nltk_data...\n",
      "[nltk_data]   Package stopwords is already up-to-date!\n"
     ]
    },
    {
     "data": {
      "text/plain": [
       "True"
      ]
     },
     "execution_count": 72,
     "metadata": {},
     "output_type": "execute_result"
    }
   ],
   "source": [
    "import numpy as np\n",
    "import pandas as pd\n",
    "import torch\n",
    "from transformers import BertTokenizer, BertModel\n",
    "from sklearn.linear_model import LogisticRegression\n",
    "from sklearn.metrics import accuracy_score\n",
    "from sklearn.linear_model import LogisticRegressionCV\n",
    "from sklearn.model_selection import cross_val_score\n",
    "from sklearn.model_selection import GridSearchCV\n",
    "from sklearn.metrics import f1_score\n",
    "from imblearn.over_sampling import SMOTE\n",
    "from sklearn.preprocessing import StandardScaler\n",
    "from sklearn.model_selection import StratifiedKFold\n",
    "from sklearn.svm import SVC\n",
    "from sklearn.metrics import classification_report\n",
    "import re\n",
    "import nltk\n",
    "from nltk.corpus import stopwords\n",
    "nltk.download('stopwords')"
   ]
  },
  {
   "cell_type": "code",
   "execution_count": 74,
   "id": "ee46105c",
   "metadata": {},
   "outputs": [],
   "source": [
    "input_dir = '/Users/cpan/OneDrive - Guardant Health/page_classification_data/'\n",
    "train_data = pd.read_csv(input_dir + 'train_docs_hir_filter.csv')\n",
    "valid_data = pd.read_csv(input_dir + 'valid_docs_hir_filter.csv')\n",
    "test_data = pd.read_csv(input_dir + 'test_docs_hir_filter.csv')"
   ]
  },
  {
   "cell_type": "code",
   "execution_count": 25,
   "id": "946525ad",
   "metadata": {},
   "outputs": [],
   "source": [
    "# load BERT features \n",
    "train_features = np.load(input_dir+'bert_train_features.npy')\n",
    "val_features = np.load(input_dir+'bert_val_features.npy')\n",
    "test_features = np.load(input_dir+'bert_test_features.npy')"
   ]
  },
  {
   "cell_type": "code",
   "execution_count": 26,
   "id": "c2bf5118",
   "metadata": {},
   "outputs": [],
   "source": [
    "X_train = train_features\n",
    "y_train = train_data['label']\n",
    "X_val = val_features\n",
    "y_val = valid_data['label']"
   ]
  },
  {
   "cell_type": "code",
   "execution_count": 27,
   "id": "1b4127aa",
   "metadata": {},
   "outputs": [],
   "source": [
    "X_test = test_features\n",
    "y_test = test_data['label']"
   ]
  },
  {
   "cell_type": "code",
   "execution_count": 28,
   "id": "9378687b",
   "metadata": {},
   "outputs": [],
   "source": [
    "# use SMOTE to oversample minority classes \n",
    "smote = SMOTE(sampling_strategy=0.5, k_neighbors=5)  # Adjust k_neighbors as needed\n",
    "X_train_resampled, y_train_resampled = smote.fit_resample(X_train, y_train)"
   ]
  },
  {
   "cell_type": "code",
   "execution_count": 49,
   "id": "3647a151",
   "metadata": {},
   "outputs": [],
   "source": [
    "scaler = StandardScaler()\n",
    "\n",
    "# Fit the scaler on the training data and transform features\n",
    "X_train_scaled = scaler.fit_transform(X_train_resampled)\n",
    "X_val_scaled = scaler.transform(X_val)\n",
    "X_test_scaled = scaler.transform(X_test)"
   ]
  },
  {
   "cell_type": "code",
   "execution_count": 30,
   "id": "0f87013a",
   "metadata": {},
   "outputs": [],
   "source": [
    "def clean_text(text):\n",
    "    # Convert to lowercase\n",
    "    text = text.lower()\n",
    "    \n",
    "    # Remove special characters, digits, and extra spaces\n",
    "    text = re.sub(r'\\W+', ' ', text)\n",
    "    text = re.sub(r'\\d+', ' ', text)\n",
    "    text = re.sub(r'\\s+', ' ', text).strip()\n",
    "    \n",
    "    # Define your custom vocabulary to be added to stopwords\n",
    "    custom_vocab = [\"redacted\", \"redactedredacted\", 'is', 'to', 'of', 'with', 'in', 'no']  # Add your domain-specific terms\n",
    "    \n",
    "    # Combine NLTK stopwords and custom vocabulary\n",
    "    stop_words = set(stopwords.words('english') + custom_vocab)\n",
    "    \n",
    "    words = text.split()\n",
    "    # filter out words that have length less than 2 \n",
    "    filtered_words = [word for word in words if len(word) > 2 and word not in stop_words]\n",
    "    text = ' '.join(filtered_words)\n",
    "    \n",
    "    return text"
   ]
  },
  {
   "cell_type": "code",
   "execution_count": 58,
   "id": "fd598412",
   "metadata": {},
   "outputs": [],
   "source": [
    "# # grid search on svm\n",
    "# def grid_searchcv(classifier, parameters, X_train, y_train):\n",
    "#     clf = GridSearchCV(classifier, parameters, scoring='f1_micro', cv = 5)\n",
    "#     clf.fit(X_train, y_train)\n",
    "#     print(\"best parameters:\", clf.best_params_)\n",
    "#     print(\"best score:\", clf.best_score_)\n",
    "#     return clf\n",
    "  \n",
    "# def f1_score_each_category(x_test, y_test, model):\n",
    "#     pred = model.predict(x_test)\n",
    "#     print(classification_report(y_test, pred))\n",
    "\n",
    "# def train_model( model, parameters, x_train, y_train):\n",
    "#     best_model  = grid_searchcv(model, parameters, x_train, y_train)\n",
    "#     return best_model\n",
    "\n",
    "# def train_svm(x_train, y_train,parameters):\n",
    "#     best_svm = train_model(SVC(), parameters, x_train, y_train)\n",
    "#     return best_svm"
   ]
  },
  {
   "cell_type": "code",
   "execution_count": 52,
   "id": "32c80144",
   "metadata": {},
   "outputs": [],
   "source": [
    "# svm_parameters = [{'C': [0.1, 1, 10], 'kernel': ['linear', 'rbf']}]\n",
    "# best_svm = train_svm(X_train_scaled, y_train_resampled, svm_parameters)\n",
    "# f1_score_each_category(X_val_scaled, y_val, best_svm)"
   ]
  },
  {
   "cell_type": "code",
   "execution_count": 59,
   "id": "d124ac86",
   "metadata": {},
   "outputs": [
    {
     "name": "stdout",
     "output_type": "stream",
     "text": [
      "Nested Cross-Validation F1 Scores: [0.99826389 0.99652778 0.99826087 0.99304348 0.99826087]\n",
      "Mean F1 Score: 0.9968713768115942\n",
      "              precision    recall  f1-score   support\n",
      "\n",
      "           0       0.98      1.00      0.99       411\n",
      "           1       0.00      0.00      0.00         8\n",
      "\n",
      "    accuracy                           0.98       419\n",
      "   macro avg       0.49      0.50      0.49       419\n",
      "weighted avg       0.96      0.98      0.97       419\n",
      "\n"
     ]
    }
   ],
   "source": [
    "# nested cross validation to reduce overfitting \n",
    "from sklearn.model_selection import GridSearchCV, cross_val_score, StratifiedKFold\n",
    "from sklearn.svm import SVC\n",
    "from sklearn.metrics import f1_score, make_scorer\n",
    "\n",
    "# Create a custom f1_micro scorer\n",
    "f1_micro = make_scorer(f1_score, average='micro')\n",
    "\n",
    "# Outer StratifiedKFold for the final evaluation\n",
    "outer_cv = StratifiedKFold(n_splits=5, shuffle=True, random_state=42)\n",
    "\n",
    "# Inner StratifiedKFold for hyperparameter tuning\n",
    "inner_cv = StratifiedKFold(n_splits=5, shuffle=True, random_state=42)\n",
    "\n",
    "def nested_cross_val(classifier, parameters, X, y, outer_cv, inner_cv):\n",
    "    clf = GridSearchCV(classifier, parameters, scoring=f1_micro, cv=inner_cv)\n",
    "    clf.fit(X, y)  # Fit the grid search on the entire dataset\n",
    "    nested_scores = cross_val_score(clf.best_estimator_, X, y, cv=outer_cv, scoring=f1_micro)\n",
    "    print(\"Nested Cross-Validation F1 Scores:\", nested_scores)\n",
    "    print(\"Mean F1 Score:\", nested_scores.mean())\n",
    "    return clf.best_params_\n",
    "\n",
    "# Hyperparameters to search\n",
    "svm_parameters = [{'C': [0.1, 1, 10], 'kernel': ['linear', 'rbf']}]\n",
    "\n",
    "# Perform nested cross-validation for hyperparameter tuning\n",
    "best_params = nested_cross_val(SVC(), svm_parameters, X_train_scaled, y_train_resampled, outer_cv, inner_cv)\n",
    "\n",
    "# Instantiate the best SVM with the best parameters\n",
    "best_svm = SVC(**best_params)\n",
    "\n",
    "# Fit the best SVM on the entire training data\n",
    "best_svm.fit(X_train_scaled, y_train_resampled)\n",
    "\n",
    "# Evaluate the best model on the validation set\n",
    "f1_score_each_category(X_val_scaled, y_val, best_svm)"
   ]
  },
  {
   "cell_type": "code",
   "execution_count": 60,
   "id": "8fbac3f1",
   "metadata": {},
   "outputs": [
    {
     "name": "stdout",
     "output_type": "stream",
     "text": [
      "{'C': 10, 'kernel': 'rbf'}\n"
     ]
    }
   ],
   "source": [
    "print(best_params)"
   ]
  },
  {
   "cell_type": "code",
   "execution_count": 61,
   "id": "3783064e",
   "metadata": {},
   "outputs": [],
   "source": [
    "# Choose the best model based on cross-validation F1 scores\n",
    "X_test = X_test_scaled\n",
    "y_test = test_data['label']"
   ]
  },
  {
   "cell_type": "code",
   "execution_count": 62,
   "id": "2da8c60f",
   "metadata": {},
   "outputs": [],
   "source": [
    "# Evaluate the best model on the test set using extracted BERT features\n",
    "y_pred = best_svm.predict(X_test)"
   ]
  },
  {
   "cell_type": "code",
   "execution_count": 63,
   "id": "a166f12c",
   "metadata": {},
   "outputs": [
    {
     "name": "stdout",
     "output_type": "stream",
     "text": [
      "Precision: 0.0\n",
      "Recall: 0.0\n",
      "F1-Score: 0.0\n"
     ]
    }
   ],
   "source": [
    "from sklearn.metrics import precision_recall_fscore_support\n",
    "\n",
    "# Assuming y_true contains the true labels and y_pred contains the predicted labels\n",
    "precision, recall, f1_score, _ = precision_recall_fscore_support(y_test, y_pred, average='binary')\n",
    "\n",
    "print(\"Precision:\", precision)\n",
    "print(\"Recall:\", recall)\n",
    "print(\"F1-Score:\", f1_score)"
   ]
  },
  {
   "cell_type": "code",
   "execution_count": 64,
   "id": "989b9f07",
   "metadata": {},
   "outputs": [],
   "source": [
    "predictions_df = pd.DataFrame({\"file_name\": test_data[\"file_name\"], 'patient_id': test_data['patient_id'], 'page_content':test_data['page_content'],\"is_test\": y_pred})"
   ]
  },
  {
   "cell_type": "code",
   "execution_count": 65,
   "id": "50d9a9d4",
   "metadata": {},
   "outputs": [
    {
     "name": "stdout",
     "output_type": "stream",
     "text": [
      "(419, 4)\n"
     ]
    },
    {
     "data": {
      "text/plain": [
       "0    417\n",
       "1      2\n",
       "Name: is_test, dtype: int64"
      ]
     },
     "execution_count": 65,
     "metadata": {},
     "output_type": "execute_result"
    }
   ],
   "source": [
    "print(predictions_df.shape)\n",
    "predictions_df['is_test'].value_counts()"
   ]
  },
  {
   "cell_type": "code",
   "execution_count": 41,
   "id": "0435f380",
   "metadata": {},
   "outputs": [],
   "source": [
    "# predictions_df.to_csv(input_dir+'predicted_test_results_svm.csv', index=False)"
   ]
  },
  {
   "cell_type": "code",
   "execution_count": 42,
   "id": "040c3a69",
   "metadata": {},
   "outputs": [],
   "source": [
    "# print(input_dir)"
   ]
  },
  {
   "cell_type": "code",
   "execution_count": 36,
   "id": "574de75b",
   "metadata": {},
   "outputs": [
    {
     "data": {
      "text/plain": [
       "'/Users/cpan/Desktop/project/notebooks'"
      ]
     },
     "execution_count": 36,
     "metadata": {},
     "output_type": "execute_result"
    }
   ],
   "source": [
    "pwd"
   ]
  },
  {
   "cell_type": "code",
   "execution_count": 36,
   "id": "2bea68a8",
   "metadata": {},
   "outputs": [],
   "source": [
    "# # save model to use later \n",
    "# import joblib\n",
    "\n",
    "# # Save the trained SVM model\n",
    "# model_filename = 'best_svm_model.pkl'\n",
    "# joblib.dump(best_svm, model_filename)\n",
    "\n",
    "# print(\"Model saved to\", model_filename)\n"
   ]
  },
  {
   "cell_type": "code",
   "execution_count": 31,
   "id": "3858db01",
   "metadata": {},
   "outputs": [],
   "source": [
    "# Load the trained SVM model from the file\n",
    "# loaded_model = joblib.load(model_filename)"
   ]
  },
  {
   "cell_type": "markdown",
   "id": "e355af9a",
   "metadata": {},
   "source": [
    "### Error Analysis"
   ]
  },
  {
   "cell_type": "code",
   "execution_count": 66,
   "id": "1bf1ad19",
   "metadata": {},
   "outputs": [
    {
     "name": "stdout",
     "output_type": "stream",
     "text": [
      "Confusion Matrix:\n",
      "[[409   2]\n",
      " [  8   0]]\n",
      "\n",
      "Misclassified Examples:\n",
      "Example 1:\n",
      "True Label: 1\n",
      "Predicted Label: 0\n",
      "Text:\n",
      "to: 18772418203 page 33 of 46 2020-08-17 17:06:47 (gmt) 5055917000 from: 5055917000 confidential imt 53799932 myrisk management tool name: [**REDACTED**], [**REDACTED**] oct 24, 1955 accession #: 03630003-bld report date: may 21, 2020 * whatis meant by “high risk\" and \"elevated risk\"? in the genetic test result summary, a gene-associated cancer risk is described as \"high risk\" for a cancer type if all of the following conditions are met: the absolute risk of cancer is approximately 5% or higher, the increase in risk over the general population is approximately 3-fold or higher, and thers is significant data from multiple studies supporting the cancer risk estimate. a gene is described as \"elevated risk\" for a cancer type if there is sufficient data to support an increase in cancer risk over the general population risk, but not all criteria far \"high risk\" are met. information for family members family members should talk to their healthcare providers about hereditary cancer testing to help define their own risk and assist in the interpretation of this patient's genetic test result. please contact myriad medical services at 1-800-469-7423 x 3850 to discuss any questions regarding this result. end of myrisk management tool myrisk management taal page 2 of 2\n",
      "==================================================\n",
      "Example 2:\n",
      "True Label: 1\n",
      "Predicted Label: 0\n",
      "Text:\n",
      "tul. 19. 2022 ° 9:54am ~ no. 3282 pf. 21/31 confidential . . [**REDACTED**][**REDACTED**] roe genetic result a aay nariai braoka, tayaka dob: may 30,1971 accesslon# 04129820:6ld report date: dec 01,2071 assorlated cancer risks and clinical managemant: the \"myrisk management tool\" associated with thla report providas a summary of cancer flak and:professtonal soclety. medical management guidalinas that may ba useful fn developing a plan for this patfent based on any clinicdlly significant test resulta and/or reported persqnalhamlly history. in sorrie-cagés,.2 myrisk management too! cannot be provided, such as when the result has 4 special interpretation or includes a mutation with unusual characteristics. analysis dascription: the technical specificatians summary ([**REDACTED**],com/technicdl-specilléations} describes the analysis, method, performance, nomenclature, and interpretiva criteria af this test, current testing technologles are unable td definitively determing whether a variant is germi[**REDACTED**] or samatic in origin, which may significantly impact risk estimates and medical managament; therefore, these rasulis hold be correlated with this patient's personal and family history, the interpretation of this tast may also be impectad if tha patlent-has a hematolagic malignancy or an allogenele borie marrow transplant, classification disclaimer . the classification and interpretation of all variants [dentifieo in this assay reflects the current state of . [**REDACTED**]'s scientific understanding at the time this report was issued, variant classification and interpretation may: change for a variety of reasons, including but not limited to, improvements to classification techniques, availability of additional scientific information, and observation of a variant in more patients, please contact [**REDACTED**] madieal services at 1-800-449-7423 x 3850 to discuss any questions ragarding this result. thi authorized signature @onjam!n 8, roa, [**REDACTED**] : ‘thasa teat rauults should only he wt hh orien with tha patlerd’s clinical hlajory - olplomsty abmg and pny peovioun anatyih of appropriata family momborp. the pavent's clinical history partalns to this laboratory report: liboretory director and yost rowuitx should nat be dcloned vo a thi garry umloatrolatgd to tenaumont gr payient for wapl mont, withavt [**REDACTED**] axpraye [**REDACTED**] puthor[**REDACTED**]tlon, ht la atrenghy fecammended that there caauta be communicate” ta the patent th a satting thibt inch appropelata genetic eoroutatlos. thi joxt way devolepad [**REDACTED**] performance ehafadtoristcr delorm[**REDACTED**]d by mytlad canetle laboratories [**REDACTED**] beer cleared or appenved by tha 0.9, pood and drug adminbiatlon [**REDACTED**]} the fra hia datetm[**REDACTED**]d that clasranca ar approve) [**REDACTED**] wer i nod required. o0'2071 myilid chengtjce, [**REDACTED**], azo walrurs wiy, soft bak city, est: 84105 { ph: 1-800-489-7479 fx: bols84-3413 the formit ond contents of thts i éoplad or ued without perm|aikes fi of eauanranadnaee ou tnucemmnrpenananeaiin any mn mesh, mime guricrank a a 5 h a geratca lat. intha bt eran lent eve oo eee shor [**REDACTED**] irae vis of my posed ofz\n",
      "==================================================\n",
      "Example 3:\n",
      "True Label: 1\n",
      "Predicted Label: 0\n",
      "Text:\n",
      "to: 18772418203 page 34 of 46 2020-08-17 17:06:47 (gmt) 5055917000 from: 5055917000 vac] patient copy | coneidential 53799932 integrated bracanalysis® with myriad myrisk® hereditary cancer my risk: myrisk genetic result y herechtary cancer receiving healthcare provider specimen patient [**REDACTED**], md specimen type: blood name: [**REDACTED**], [**REDACTED**]: may 12, 2020 date of birth: oct 24, 1955 1581 n [**REDACTED**] ave accession date: may 15, 2020 patient id: aa174 bolivar, mo 65613-3028 report date: may 21, 2020 gender: female accession #: 03630003-bld requisition # 08761017 genetic result: negative - no clinically significant mutation identified note: \"clinically significant,\" as defined in this report, is a genetic change that is associated with the potential to alter medical intervention. clinical history analysis: no additional management guidelines identified based on the clinical history provided other clinical factors may influence individualized management. this analysis may be incomplete if details about cancer diagnoses, ages, family relationships or other factors were omitted or ambiguous. additional findings: variant(s) of uncertain significance (vus) identified — gene variant(s) of uncertain significance interpretation apc ©. 7402t2c (p.ser2468pro) uncertain clinical significance {[**REDACTED**] (7402t>c)) there are currently insufficient data to determine if these variants cause increased cancer risk. details about non-clinically significant variants: all individuals carry dna changes {i.¢., variants), and most variants do not increase an individual's risk of cancer or other diseases. when identified, variants of uncertain significance (vus) are reported. likely benign variants (favor polymorphisms) and benign variants (polymorphisms) are not reported and available data indicate that these variants most likely do not cause increased cancer risk. present evidence does not suggest that non-clinically significant variant findings be used to modify patient medical management beyond what is indicated by the personal and family history and any other clinically significant findings. variant classification: myriad's myvision™ variant classification program performs ongoing evaluations of variant classifications. in certain cases, healthcare providers may be contacted for more clinical information or to arrange family testing to aid in variant classification. when new evidence about a variant is identified and determined to result in clinical significance and management change, that information will automatically be made available to the healthcare provider through an amended report. additional information genes analyzed: unless otherwise nated sequencing and large rearrangement analyses were performed on the fallawing genes: apc, atm, axin?, bard, rmpr1a, [**REDACTED**], rrca?, rrip1, [**REDACTED**], [**REDACTED**], [**REDACTED**], chfk?, fpcam (large rearrangement only), hoxr13 {sequencing only), [**REDACTED**], mlh7, [**REDACTED**], [**REDACTED**] (excluding repetitive portions of exon 1), [**REDACTED**], mutyh, nbn, [**REDACTED**], [**REDACTED**], pms2, pten, [**REDACTED**], [**REDACTED**], rnf43, rps20, [**REDACTED**], stk11, tp53. sequencing was performed for select regions of pole and pold1, and large rearrangement analysis was performed for select regions of [**REDACTED**] (see technical specifications). ** other genes not analyzed with this test may also be associated with cancer. indication for testing: it is our understanding that this individual was identified for testing due to a personal or family history suggestive of a hereditary predisposition for cancer. associated cancer risks and clinical management: please see the \"myrisk management tool\" associated with this report for a summary of cancer risk and professional society medical management guidelines that may be useful in developing a plan for this patient based on test results and reported personal/family history, if applicable. testing of other family members may assist in the interpretation of this patient's test result. analysis description: the technical specifications summary (myriad.com/technical-specifications) describes the analysis, method, performance, nomenclature, and interpretive criteria of this test. current testing technologies are unable to definitively determine whether a variant is germline or somatic in origin, which may significantly impact risk estimates and medical management; therefore, these results should be correlated with this patient's personal and family history. the interpretation of this test may also be impacted if the patient has a hematologic malignancy or an allogeneic bone marrow transplant. myrisk genetic result page 1 of 2\n",
      "==================================================\n",
      "Example 4:\n",
      "True Label: 0\n",
      "Predicted Label: 1\n",
      "Text:\n",
      "hilderbrand, [**REDACTED**] (a0407814) guardant36 dob: apr-19-1946 | test number 4 tumor biology page guardant360 tumor response map the guardant360 tumor response map illustrates the variant allele fraction (% cfdna) of observed somatic variants at each sample submission. amplifications are not plotted, and only the first and last five test dates are plotted. please see the physician portal (portal.guardanthealth.com) for the tumor response map with all test dates. highest variant sun-27-20179 may08-2027 mul-12-2021 detected alteration(s) / . % cfdna or amp alteration trend biomarker(s) fgfr2 t403t 1.2% ° ° © -@ synonymous alteration is 0.5% 0.7% 0.9% 1.2% egfr d321d 0.1% synonymous alteration § [co ns oe nd nd nd 0.41% variants of uncertain kras t87| 0.1% ° ° ° oo clinical significance § nod nd nd 0.1% 23 [**REDACTED**] amplification nd d nd nd 3.8 egfr amplification nd d nd nd kras g12v nd 18.4% “nd nd nd a more detailed guardant360 patient report is available through our online portal: tst-prt-001 r37 | pg 2 of 12 6 f guardant portal.guardanthealth.com. to set up an account, contact client services: 855.698.8887\n",
      "==================================================\n",
      "Example 5:\n",
      "True Label: 1\n",
      "Predicted Label: 0\n",
      "Text:\n",
      "ee confidential §$0071438 . . myrisk\"’ hereditary cancer update test myri sk [**REDACTED**]netic result hereditary cancer test receiving healthcare provider .. “specimen . “, patient [**REDACTED**], [**REDACTED**] fence specimen type? : blood! 7° igs: : alabama oncology, °. draw. date: [**REDACTED**], nov'22, 2022\": /-date:of birt! 2728-20th ave s$ ste 200 * h acceasién date: nov24, 2022\". . patient 1d! [**REDACTED**], [**REDACTED**] 35205 report date: ;,\" dec 06; 2022\". [**REDACTED**]nders?” no ‘accession #: 04461107-bld requisition # : 1003609: [**REDACTED**]; [**REDACTED**] note: this test does not include analysis of the brcat and [**REDACTED**] [**REDACTED**]ne[**REDACTED**] please see the [**REDACTED**]nes analyzed section far a list of the [**REDACTED**]nes that were analyzed. analysis of additional [**REDACTED**]nes can be performed by ordering iternate test offering, [**REDACTED**]netic result: negative - no clinically significant mutation identified c) note: “clinically significant,” as defined in this report, is a [**REDACTED**]netic chan[**REDACTED**] that is associated with the potential to alter medical interventi clinical history analysis: no additional mana[**REDACTED**]ment guidelines identified based on the clinical history provided i other clinical factors may influence individualized mana[**REDACTED**]ment. this analysis may be incomplete if details about i cancer diagnoses, a[**REDACTED**]s, family relationships or other factors were omitted or ambiguou[**REDACTED**] if this patient also has a clinically significant mutation, the recommendations based on the clinical history analysis should be considered in light of the possibility that this mutation explains all or some of the cancer history in the family. { additional findings: no variant(s) of uncertain significance (vus) identified details about non-clinically significant variants: all individuals carry dna chan[**REDACTED**]s (i.¢., variants}, and most variants do not increase an individual's risk of cancer or other disease[**REDACTED**] when identified, variants of uncertain significance (vus) are reported. likely benign variants (favor polymorphisms} and benign variants (polymorphisms) are not reported and available data indicate that these variants most likely do not cause increased cancer risk. present evidence does not sug[**REDACTED**]st that non-clinically significant variant findings be used to modify patient medical mana[**REDACTED**]ment beyond what is indicated by the personal and family history and any other clinically significant finding[**REDACTED**] variant classification: myriad's myvision™ variant classification fragram performs ongoing evaluations of variant classification[**REDACTED**] in certain cases, healthcare providers may be contacted for mare clinical information or to arran[**REDACTED**] family testing to aid in variant classification. when new evidence about a variant is identified and determined to result in clinical significance and mana[**REDACTED**]ment chan[**REDACTED**], that information will automatically be made available to the healthcare provider through an amended report. : © 2022 myrind [**REDACTED**] | 320 wakara way, [**REDACTED**], utah 64108 1 ph: 1-800-469-7423 fx: 601-584-3615 tl a tho formet and contents ofthis repore are prapriatary and may nat bo copied or used whtheut pormisslan, [**REDACTED**] for purposos of disgrosing, counselling and treating the patiant identified in the report and members of hie or he ly. myriad, myriad myrisk, myrisk [**REDACTED**]natic result . ei one rac anaipst, [**REDACTED**], my\\ision and their respective logos are either trademarks or registorad trademarks of myriad pa[**REDACTED**] 1 of 2 [**REDACTED**] net ics [**REDACTED**] in [**REDACTED**] and other jurisdictian[**REDACTED**] [**REDACTED**], [**REDACTED**] p dob: 1/14/1965 (2000067655), piede md, john pa[**REDACTED**] | of 1 a[**REDACTED**] | of\n",
      "==================================================\n",
      "Common Words in Misclassified Examples:\n",
      "cancer: 68\n",
      "risk: 46\n",
      "patient: 39\n",
      "may: 38\n",
      "family: 37\n",
      "clinical: 36\n",
      "history: 33\n",
      "breast: 31\n",
      "variant: 30\n",
      "report: 29\n"
     ]
    }
   ],
   "source": [
    "from sklearn.metrics import confusion_matrix\n",
    "\n",
    "# Print confusion matrix\n",
    "conf_matrix = confusion_matrix(y_test, y_pred)\n",
    "print(\"Confusion Matrix:\")\n",
    "print(conf_matrix)\n",
    "\n",
    "# Find indices of misclassified examples\n",
    "misclassified_indices = np.where(y_test != y_pred)[0]\n",
    "\n",
    "# Print some of the misclassified examples for analysis\n",
    "num_examples_to_print = 5\n",
    "print(\"\\nMisclassified Examples:\")\n",
    "for i in range(min(num_examples_to_print, len(misclassified_indices))):\n",
    "    index = misclassified_indices[i]\n",
    "    print(f\"Example {i+1}:\")\n",
    "    print(\"True Label:\", y_test.iloc[index])\n",
    "    print(\"Predicted Label:\", y_pred[index])\n",
    "    print(\"Text:\")\n",
    "    print(test_data['page_content'].iloc[index])\n",
    "    print(\"=\"*50)\n",
    "\n",
    "# Analyze common words or phrases in misclassified examples\n",
    "misclassified_text = test_data['page_content'].iloc[misclassified_indices]\n",
    "miclassified_text_clean = [clean_text(text) for text in misclassified_text]\n",
    "common_words = {}\n",
    "for text in miclassified_text_clean:\n",
    "    words = text.split()\n",
    "    for word in words:\n",
    "        if word not in common_words:\n",
    "            common_words[word] = 1\n",
    "        else:\n",
    "            common_words[word] += 1\n",
    "\n",
    "# Print most common words in misclassified examples\n",
    "print(\"Common Words in Misclassified Examples:\")\n",
    "sorted_common_words = sorted(common_words.items(), key=lambda x: x[1], reverse=True)\n",
    "for word, count in sorted_common_words[:10]:\n",
    "    print(f\"{word}: {count}\")"
   ]
  },
  {
   "cell_type": "code",
   "execution_count": 67,
   "id": "b5b5c0ab",
   "metadata": {},
   "outputs": [
    {
     "name": "stdout",
     "output_type": "stream",
     "text": [
      "10\n"
     ]
    }
   ],
   "source": [
    "print(len(misclassified_indices))"
   ]
  },
  {
   "cell_type": "markdown",
   "id": "126cc958",
   "metadata": {},
   "source": [
    "The misclassified files might due to the fact that they are test results but they belong to guardant test results instead of competitors' test results. "
   ]
  },
  {
   "cell_type": "code",
   "execution_count": 68,
   "id": "2c96bc14",
   "metadata": {},
   "outputs": [
    {
     "name": "stdout",
     "output_type": "stream",
     "text": [
      "Number of Misclassified Examples Containing 'guardant': 1\n"
     ]
    }
   ],
   "source": [
    "import re\n",
    "\n",
    "# Initialize a counter for occurrences of \"guardant\" or its part\n",
    "guardant_count = 0\n",
    "\n",
    "# Analyze common words or phrases in misclassified examples\n",
    "misclassified_text = test_data['page_content'].iloc[misclassified_indices]\n",
    "misclassified_text_clean = [clean_text(text) for text in misclassified_text]\n",
    "\n",
    "for text in misclassified_text_clean:\n",
    "    if re.findall(r'\\bguardant\\b', text):  # Using \\b to match whole word \"guardant\"\n",
    "        guardant_count += 1\n",
    "\n",
    "# Print the number of misclassified examples containing \"guardant\" or its part\n",
    "print(\"Number of Misclassified Examples Containing 'guardant':\", guardant_count)\n"
   ]
  },
  {
   "cell_type": "markdown",
   "id": "3dc5e7fb",
   "metadata": {},
   "source": [
    "### Data Filtering\n",
    "- Due to 3 out of 7 misclassified text files contain the word \"guardant\". The model might misclassified guardant' test results as the competitors' test results. We can further conduct data filtering to filter out those classified test results that only contain guardant test resulst but without any competitor's test results. "
   ]
  },
  {
   "cell_type": "code",
   "execution_count": 69,
   "id": "acfe60c4",
   "metadata": {},
   "outputs": [
    {
     "data": {
      "text/html": [
       "<div>\n",
       "<style scoped>\n",
       "    .dataframe tbody tr th:only-of-type {\n",
       "        vertical-align: middle;\n",
       "    }\n",
       "\n",
       "    .dataframe tbody tr th {\n",
       "        vertical-align: top;\n",
       "    }\n",
       "\n",
       "    .dataframe thead th {\n",
       "        text-align: right;\n",
       "    }\n",
       "</style>\n",
       "<table border=\"1\" class=\"dataframe\">\n",
       "  <thead>\n",
       "    <tr style=\"text-align: right;\">\n",
       "      <th></th>\n",
       "      <th>file_name</th>\n",
       "      <th>patient_id</th>\n",
       "      <th>page_content</th>\n",
       "      <th>is_test</th>\n",
       "    </tr>\n",
       "  </thead>\n",
       "  <tbody>\n",
       "    <tr>\n",
       "      <th>0</th>\n",
       "      <td>A0428547_MedRec1/image-009.txt</td>\n",
       "      <td>A0428547</td>\n",
       "      <td>moffitt cancer 4/28/2022 2:98:33 pm [**REDACTE...</td>\n",
       "      <td>0</td>\n",
       "    </tr>\n",
       "    <tr>\n",
       "      <th>1</th>\n",
       "      <td>A0129768/image-046.txt</td>\n",
       "      <td>A0129768</td>\n",
       "      <td>foundationone'cdx q orfy g59959 patient pfelff...</td>\n",
       "      <td>0</td>\n",
       "    </tr>\n",
       "    <tr>\n",
       "      <th>2</th>\n",
       "      <td>A0329908/image-009.txt</td>\n",
       "      <td>A0329908</td>\n",
       "      <td>[**REDACTED**], [**REDACTED**] (a0329908) dob:...</td>\n",
       "      <td>0</td>\n",
       "    </tr>\n",
       "    <tr>\n",
       "      <th>3</th>\n",
       "      <td>A0428569_MedRec1/image-022.txt</td>\n",
       "      <td>A0428569</td>\n",
       "      <td>to: +17184924575 tan, cuilian (a0428569} eimg ...</td>\n",
       "      <td>0</td>\n",
       "    </tr>\n",
       "    <tr>\n",
       "      <th>4</th>\n",
       "      <td>A0596283_MedRec1/image-011.txt</td>\n",
       "      <td>A0596283</td>\n",
       "      <td>12/19/2622 @4:51pm 5612892134 hematology -onco...</td>\n",
       "      <td>0</td>\n",
       "    </tr>\n",
       "  </tbody>\n",
       "</table>\n",
       "</div>"
      ],
      "text/plain": [
       "                        file_name patient_id  \\\n",
       "0  A0428547_MedRec1/image-009.txt   A0428547   \n",
       "1          A0129768/image-046.txt   A0129768   \n",
       "2          A0329908/image-009.txt   A0329908   \n",
       "3  A0428569_MedRec1/image-022.txt   A0428569   \n",
       "4  A0596283_MedRec1/image-011.txt   A0596283   \n",
       "\n",
       "                                        page_content  is_test  \n",
       "0  moffitt cancer 4/28/2022 2:98:33 pm [**REDACTE...        0  \n",
       "1  foundationone'cdx q orfy g59959 patient pfelff...        0  \n",
       "2  [**REDACTED**], [**REDACTED**] (a0329908) dob:...        0  \n",
       "3  to: +17184924575 tan, cuilian (a0428569} eimg ...        0  \n",
       "4  12/19/2622 @4:51pm 5612892134 hematology -onco...        0  "
      ]
     },
     "execution_count": 69,
     "metadata": {},
     "output_type": "execute_result"
    }
   ],
   "source": [
    "predictions_df.head()"
   ]
  },
  {
   "cell_type": "code",
   "execution_count": 70,
   "id": "df13365f",
   "metadata": {},
   "outputs": [
    {
     "name": "stdout",
     "output_type": "stream",
     "text": [
      "(419, 4)\n"
     ]
    }
   ],
   "source": [
    "print(predictions_df.shape)"
   ]
  },
  {
   "cell_type": "code",
   "execution_count": 71,
   "id": "2c6857d1",
   "metadata": {},
   "outputs": [
    {
     "name": "stdout",
     "output_type": "stream",
     "text": [
      "Precision after filtering: 0.0\n",
      "Recall after filtering: 0.0\n",
      "F1-Score after filtering: 0.0\n"
     ]
    }
   ],
   "source": [
    "import re\n",
    "\n",
    "# List of competitor test names (not converted to lowercase)\n",
    "company_test_list = ['FoundationOne Liquid', 'Plasma Focus', 'Liquid Hallmark', 'Genestrat, InVisionFirst-Lung',\n",
    "                     'FoundationOne CDx', 'Caris Molecular Intelligence', 'OncoExtra', 'Altera', 'Invitae Cancer Screen', 'MyRisk']\n",
    "not_lower_company_test_list = ['xF', 'xF+', 'Assure', 'xT']\n",
    "\n",
    "# Create a copy of the predictions DataFrame to avoid modifying the original one\n",
    "filtered_predictions_df = predictions_df.copy()\n",
    "\n",
    "# Iterate through each row in the DataFrame\n",
    "for index, row in filtered_predictions_df.iterrows():\n",
    "    text_content = row['page_content']\n",
    "    predicted_test = row['is_test']\n",
    "    \n",
    "    # Use re.findall to find partial matches for \"guardant\" (case-insensitive)\n",
    "    guardant_matches = re.findall(r'guardant', text_content, re.IGNORECASE)\n",
    "    \n",
    "    # Check if the guardant_matches list is not empty and if the predicted test is 1\n",
    "    if guardant_matches and predicted_test == 1:\n",
    "        # Check if any competitor's test name is present in the text content (not converted to lowercase)\n",
    "        if not any(spec_test in text_content for spec_test in not_lower_company_test_list):\n",
    "            # Change the predicted label to 0\n",
    "            filtered_predictions_df.at[index, 'is_test'] = 0\n",
    "        if not any(test.lower() in text_content.lower() for test in company_test_list):\n",
    "            filtered_predictions_df.at[index, 'is_test'] = 0\n",
    "\n",
    "# Assuming y_true contains the true labels and filtered_predictions_df contains the modified predicted labels\n",
    "precision, recall, f1_score, _ = precision_recall_fscore_support(y_test, filtered_predictions_df['is_test'], average='binary')\n",
    "\n",
    "print(\"Precision after filtering:\", precision)\n",
    "print(\"Recall after filtering:\", recall)\n",
    "print(\"F1-Score after filtering:\", f1_score)\n"
   ]
  },
  {
   "cell_type": "code",
   "execution_count": null,
   "id": "e5d19f5b",
   "metadata": {},
   "outputs": [],
   "source": []
  }
 ],
 "metadata": {
  "kernelspec": {
   "display_name": "Python 3 (ipykernel)",
   "language": "python",
   "name": "python3"
  },
  "language_info": {
   "codemirror_mode": {
    "name": "ipython",
    "version": 3
   },
   "file_extension": ".py",
   "mimetype": "text/x-python",
   "name": "python",
   "nbconvert_exporter": "python",
   "pygments_lexer": "ipython3",
   "version": "3.10.9"
  }
 },
 "nbformat": 4,
 "nbformat_minor": 5
}
