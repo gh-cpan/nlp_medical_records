{
 "cells": [
  {
   "cell_type": "code",
   "execution_count": 1,
   "id": "f06dea8f-dd0f-46cf-a9ea-69957465488f",
   "metadata": {},
   "outputs": [],
   "source": [
    "import json\n",
    "import pandas as pd\n",
    "import seaborn as sns\n",
    "import matplotlib.pyplot as plt\n",
    "from sklearn.model_selection import train_test_split\n",
    "from sklearn.preprocessing import MultiLabelBinarizer\n",
    "import re\n",
    "from sklearn.model_selection import train_test_split\n",
    "from sklearn.model_selection import StratifiedShuffleSplit"
   ]
  },
  {
   "cell_type": "code",
   "execution_count": 2,
   "id": "ab81c4ef-6bbe-4787-8e19-a1e3d7f6874f",
   "metadata": {},
   "outputs": [
    {
     "ename": "FileNotFoundError",
     "evalue": "[Errno 2] No such file or directory: '/ghphi/data/phi/clean_test_results/labeled_test_results_3000.json'",
     "output_type": "error",
     "traceback": [
      "\u001b[0;31m---------------------------------------------------------------------------\u001b[0m",
      "\u001b[0;31mFileNotFoundError\u001b[0m                         Traceback (most recent call last)",
      "Cell \u001b[0;32mIn[2], line 2\u001b[0m\n\u001b[1;32m      1\u001b[0m json_file_path \u001b[38;5;241m=\u001b[39m \u001b[38;5;124m'\u001b[39m\u001b[38;5;124m/ghphi/data/phi/clean_test_results/labeled_test_results_3000.json\u001b[39m\u001b[38;5;124m'\u001b[39m\n\u001b[0;32m----> 2\u001b[0m \u001b[38;5;28;01mwith\u001b[39;00m \u001b[38;5;28;43mopen\u001b[39;49m\u001b[43m(\u001b[49m\u001b[43mjson_file_path\u001b[49m\u001b[43m,\u001b[49m\u001b[43m \u001b[49m\u001b[38;5;124;43m'\u001b[39;49m\u001b[38;5;124;43mr\u001b[39;49m\u001b[38;5;124;43m'\u001b[39;49m\u001b[43m)\u001b[49m \u001b[38;5;28;01mas\u001b[39;00m json_file:\n\u001b[1;32m      3\u001b[0m     data \u001b[38;5;241m=\u001b[39m json\u001b[38;5;241m.\u001b[39mload(json_file)\n",
      "File \u001b[0;32m~/miniconda3/envs/myenv/lib/python3.11/site-packages/IPython/core/interactiveshell.py:284\u001b[0m, in \u001b[0;36m_modified_open\u001b[0;34m(file, *args, **kwargs)\u001b[0m\n\u001b[1;32m    277\u001b[0m \u001b[38;5;28;01mif\u001b[39;00m file \u001b[38;5;129;01min\u001b[39;00m {\u001b[38;5;241m0\u001b[39m, \u001b[38;5;241m1\u001b[39m, \u001b[38;5;241m2\u001b[39m}:\n\u001b[1;32m    278\u001b[0m     \u001b[38;5;28;01mraise\u001b[39;00m \u001b[38;5;167;01mValueError\u001b[39;00m(\n\u001b[1;32m    279\u001b[0m         \u001b[38;5;124mf\u001b[39m\u001b[38;5;124m\"\u001b[39m\u001b[38;5;124mIPython won\u001b[39m\u001b[38;5;124m'\u001b[39m\u001b[38;5;124mt let you open fd=\u001b[39m\u001b[38;5;132;01m{\u001b[39;00mfile\u001b[38;5;132;01m}\u001b[39;00m\u001b[38;5;124m by default \u001b[39m\u001b[38;5;124m\"\u001b[39m\n\u001b[1;32m    280\u001b[0m         \u001b[38;5;124m\"\u001b[39m\u001b[38;5;124mas it is likely to crash IPython. If you know what you are doing, \u001b[39m\u001b[38;5;124m\"\u001b[39m\n\u001b[1;32m    281\u001b[0m         \u001b[38;5;124m\"\u001b[39m\u001b[38;5;124myou can use builtins\u001b[39m\u001b[38;5;124m'\u001b[39m\u001b[38;5;124m open.\u001b[39m\u001b[38;5;124m\"\u001b[39m\n\u001b[1;32m    282\u001b[0m     )\n\u001b[0;32m--> 284\u001b[0m \u001b[38;5;28;01mreturn\u001b[39;00m \u001b[43mio_open\u001b[49m\u001b[43m(\u001b[49m\u001b[43mfile\u001b[49m\u001b[43m,\u001b[49m\u001b[43m \u001b[49m\u001b[38;5;241;43m*\u001b[39;49m\u001b[43margs\u001b[49m\u001b[43m,\u001b[49m\u001b[43m \u001b[49m\u001b[38;5;241;43m*\u001b[39;49m\u001b[38;5;241;43m*\u001b[39;49m\u001b[43mkwargs\u001b[49m\u001b[43m)\u001b[49m\n",
      "\u001b[0;31mFileNotFoundError\u001b[0m: [Errno 2] No such file or directory: '/ghphi/data/phi/clean_test_results/labeled_test_results_3000.json'"
     ]
    }
   ],
   "source": [
    "json_file_path = '/ghphi/data/phi/clean_test_results/labeled_test_results_3000.json'\n",
    "with open(json_file_path, 'r') as json_file:\n",
    "    data = json.load(json_file)"
   ]
  },
  {
   "cell_type": "code",
   "execution_count": 51,
   "id": "5358cdb6-06ec-4e6a-b224-4c9be6d4422d",
   "metadata": {},
   "outputs": [
    {
     "name": "stdout",
     "output_type": "stream",
     "text": [
      "923\n"
     ]
    }
   ],
   "source": [
    "path_txt =  '/ghphi/data/phi/page_classification_data/'\n",
    "key_file_path = 'second3000_hierarchical_closest_key_file_names.txt'\n",
    "\n",
    "with open(path_txt + key_file_path, 'r') as file:\n",
    "    closest_key_file_names = [line.strip() for line in file]\n",
    "\n",
    "# Print the array to verify the contents\n",
    "print(len(closest_key_file_names))"
   ]
  },
  {
   "cell_type": "code",
   "execution_count": 52,
   "id": "87f3cfae-116f-4a89-a116-f3e02bcb4b86",
   "metadata": {},
   "outputs": [],
   "source": [
    "test_keywords = ['biomarker findings', 'genomic findings', 'result','specimen', 'finding summary' , 'treatment strategies', 'areas of therapeutic use', 'supporting data', 'clinical trials', 'final diagnosis',\n",
    "                 'therapies with clinical benefits', 'pathogen identification', 'gene expression', 'assessment', 'final report', 'specimen information', 'biomarker highlights' , 'method', 'biomarker results', 'clinical trials connector', \\\n",
    "                'tumor', 'variant', 'diagnostic', 'evidence']\n",
    "# add in the label of guardant and filter out based on the results later on\n",
    "company_test_list = ['FoundationOne Liquid', 'xF', 'xF+', 'Assure', 'Plasma Focus', 'Liquid Hallmark', 'Genestrat, InVisionFirst-Lung',\n",
    "                     'FoundationOne CDx', 'Caris Molecular Intelligence', 'xT', 'OncoExtra', 'Altera', 'Invitae Cancer Screen', 'MyRisk', 'MyChoice']"
   ]
  },
  {
   "cell_type": "code",
   "execution_count": 53,
   "id": "12344c94-41ef-44f7-89e5-b2faaa717997",
   "metadata": {},
   "outputs": [],
   "source": [
    "# how to label it's test result or not: \n",
    "# label 1 if mention at least 1 company test in company_test_list, then find at least 1 match in test_keyword lists\n",
    "# Process keywords and test list\n",
    "processed_test_keywords = [re.sub(r'\\s+', '', keyword.lower()) for keyword in test_keywords]\n",
    "# Process company_test_list while preserving casing for specific words\n",
    "processed_company_test_list = []\n",
    "\n",
    "for test in company_test_list:\n",
    "    if test.lower() in ['assure', 'xt', 'xf', 'xf+']:\n",
    "        processed_company_test_list.append(re.sub(r'\\s+', '', test))\n",
    "    else:\n",
    "        processed_company_test_list.append(re.sub(r'\\s+', '', test.lower()))"
   ]
  },
  {
   "cell_type": "code",
   "execution_count": 54,
   "id": "da446bf8-98c6-4537-9cc3-fefe99b18570",
   "metadata": {},
   "outputs": [
    {
     "name": "stdout",
     "output_type": "stream",
     "text": [
      "['foundationoneliquid', 'xF', 'xF+', 'Assure', 'plasmafocus', 'liquidhallmark', 'genestrat,invisionfirst-lung', 'foundationonecdx', 'carismolecularintelligence', 'xT', 'oncoextra', 'altera', 'invitaecancerscreen', 'myrisk', 'mychoice']\n"
     ]
    }
   ],
   "source": [
    "print(processed_company_test_list)"
   ]
  },
  {
   "cell_type": "code",
   "execution_count": 55,
   "id": "0bba8dd4-8864-4265-99a4-66bbd4eea5bc",
   "metadata": {},
   "outputs": [],
   "source": [
    "# Function to check if a page contains at least one company test and one keyword from the test_keywords lists\n",
    "def contains_test_and_keyword(page_content):\n",
    "    for test in processed_company_test_list:\n",
    "        if test not in ['xF', 'xF+', 'Assure', 'xT']:\n",
    "            page_content = page_content.lower()\n",
    "        if re.findall(r'\\b{}\\b'.format(re.escape(test)), page_content):\n",
    "          for keyword in processed_test_keywords:\n",
    "            if re.findall(r'\\b{}\\b'.format(re.escape(keyword)), page_content.lower()):\n",
    "              return True\n",
    "    return False"
   ]
  },
  {
   "cell_type": "code",
   "execution_count": 56,
   "id": "421cbe16-8135-4229-b8be-8bc1e3ee56d4",
   "metadata": {},
   "outputs": [],
   "source": [
    "def preprocess_text(text):\n",
    "    # Remove symbols and extra white spaces\n",
    "    cleaned_text = re.sub(r'[^\\w\\s]', ' ', text)  # Remove symbols\n",
    "    cleaned_text = re.sub(r'\\s+', ' ', cleaned_text)  # Replace multiple spaces with single space\n",
    "    cleaned_text = cleaned_text.strip()  # Remove leading and trailing spaces\n",
    "    return cleaned_text\n",
    "    \n",
    "def labeling_data(data):\n",
    "    labeled_data = []\n",
    "    for entry in data:\n",
    "        file_name = entry['file_name']\n",
    "        patient_id = entry['patient_id']\n",
    "        page_content = preprocess_text(entry['page_content'])\n",
    "        tests = entry['tests']\n",
    "        # if no tests found, the page content must not contain any test result\n",
    "        if len(tests)<1:\n",
    "            label = 0 \n",
    "        else: \n",
    "            if contains_test_and_keyword(page_content):\n",
    "                label = 1\n",
    "            # not belong to compeytitor's test results if not in the clustering key files \n",
    "            else: \n",
    "                label = 0         \n",
    "        labeled_data.append({'file_name': file_name, 'patient_id': patient_id, 'page_content': page_content, 'label': label})\n",
    "    # Convert to DataFrame for easier manipulation\n",
    "    df = pd.DataFrame(labeled_data)\n",
    "    return df\n",
    "\n",
    "def splitting_data(df):\n",
    "    # Splitting into train, validation, and test sets using StratifiedShuffleSplit\n",
    "    sss_train = StratifiedShuffleSplit(n_splits=1, test_size=0.3, random_state=42)\n",
    "    sss_val_test = StratifiedShuffleSplit(n_splits=1, test_size=0.5, random_state=42)\n",
    "\n",
    "    # Stratified splitting for training set\n",
    "    for train_index, temp_index in sss_train.split(df, df['label']):\n",
    "        train_df = df.iloc[train_index].copy()\n",
    "        temp_df = df.iloc[temp_index].copy()\n",
    "\n",
    "    # Stratified splitting for validation and test sets from the temp_df\n",
    "    for val_index, test_index in sss_val_test.split(temp_df, temp_df['label']):\n",
    "        val_df = temp_df.iloc[val_index].copy()\n",
    "        test_df = temp_df.iloc[test_index].copy()\n",
    "\n",
    "    # Reset index for each DataFrame\n",
    "    train_df.reset_index(drop=True, inplace=True)\n",
    "    val_df.reset_index(drop=True, inplace=True)\n",
    "    test_df.reset_index(drop=True, inplace=True)\n",
    "\n",
    "    # Print the number of samples in each set\n",
    "    print(\"Train set size:\", len(train_df))\n",
    "    print(\"Validation set size:\", len(val_df))\n",
    "    print(\"Test set size:\", len(test_df))\n",
    "    \n",
    "    return train_df, val_df, test_df"
   ]
  },
  {
   "cell_type": "code",
   "execution_count": 57,
   "id": "68e5e4b8-3e95-411f-a919-ec305f7f330f",
   "metadata": {},
   "outputs": [
    {
     "name": "stdout",
     "output_type": "stream",
     "text": [
      "Train set size: 1520\n",
      "Validation set size: 326\n",
      "Test set size: 326\n"
     ]
    }
   ],
   "source": [
    "df_labeled = labeling_data(data)\n",
    "train_df, val_df, test_df = splitting_data(df_labeled)"
   ]
  },
  {
   "cell_type": "code",
   "execution_count": 58,
   "id": "da026fdb-6ac1-43e8-bd0a-4c82d9bcbbd1",
   "metadata": {},
   "outputs": [
    {
     "data": {
      "text/html": [
       "<div>\n",
       "<style scoped>\n",
       "    .dataframe tbody tr th:only-of-type {\n",
       "        vertical-align: middle;\n",
       "    }\n",
       "\n",
       "    .dataframe tbody tr th {\n",
       "        vertical-align: top;\n",
       "    }\n",
       "\n",
       "    .dataframe thead th {\n",
       "        text-align: right;\n",
       "    }\n",
       "</style>\n",
       "<table border=\"1\" class=\"dataframe\">\n",
       "  <thead>\n",
       "    <tr style=\"text-align: right;\">\n",
       "      <th></th>\n",
       "      <th>file_name</th>\n",
       "      <th>patient_id</th>\n",
       "      <th>page_content</th>\n",
       "      <th>label</th>\n",
       "    </tr>\n",
       "  </thead>\n",
       "  <tbody>\n",
       "    <tr>\n",
       "      <th>0</th>\n",
       "      <td>A0569166_MedRec1/image-026.txt</td>\n",
       "      <td>A0569166</td>\n",
       "      <td>2022 11 29 11 11 53 29 47 REDACTED REDACTED My...</td>\n",
       "      <td>1</td>\n",
       "    </tr>\n",
       "    <tr>\n",
       "      <th>1</th>\n",
       "      <td>A0273290_MedRec2/image-033.txt</td>\n",
       "      <td>A0273290</td>\n",
       "      <td>01 05 2022 3 51 51 PM PAGE 37 OF 45 REDACTED R...</td>\n",
       "      <td>0</td>\n",
       "    </tr>\n",
       "    <tr>\n",
       "      <th>2</th>\n",
       "      <td>A83264/image-014.txt</td>\n",
       "      <td>A83264</td>\n",
       "      <td>O1 26 718 11 12 FROM CBSN Tenaya 7027493 708 T...</td>\n",
       "      <td>0</td>\n",
       "    </tr>\n",
       "    <tr>\n",
       "      <th>3</th>\n",
       "      <td>A0588576_MedRec1/image-082.txt</td>\n",
       "      <td>A0588576</td>\n",
       "      <td>To 18772418203 Paae 085 of 108 2022 12 01 18 3...</td>\n",
       "      <td>1</td>\n",
       "    </tr>\n",
       "    <tr>\n",
       "      <th>4</th>\n",
       "      <td>A0340486/image-005.txt</td>\n",
       "      <td>A0340486</td>\n",
       "      <td>To 16173942606 Page 04 of 12 2021 03 31 00 38 ...</td>\n",
       "      <td>0</td>\n",
       "    </tr>\n",
       "  </tbody>\n",
       "</table>\n",
       "</div>"
      ],
      "text/plain": [
       "                        file_name patient_id  \\\n",
       "0  A0569166_MedRec1/image-026.txt   A0569166   \n",
       "1  A0273290_MedRec2/image-033.txt   A0273290   \n",
       "2            A83264/image-014.txt     A83264   \n",
       "3  A0588576_MedRec1/image-082.txt   A0588576   \n",
       "4          A0340486/image-005.txt   A0340486   \n",
       "\n",
       "                                        page_content  label  \n",
       "0  2022 11 29 11 11 53 29 47 REDACTED REDACTED My...      1  \n",
       "1  01 05 2022 3 51 51 PM PAGE 37 OF 45 REDACTED R...      0  \n",
       "2  O1 26 718 11 12 FROM CBSN Tenaya 7027493 708 T...      0  \n",
       "3  To 18772418203 Paae 085 of 108 2022 12 01 18 3...      1  \n",
       "4  To 16173942606 Page 04 of 12 2021 03 31 00 38 ...      0  "
      ]
     },
     "execution_count": 58,
     "metadata": {},
     "output_type": "execute_result"
    }
   ],
   "source": [
    "train_df.head()"
   ]
  },
  {
   "cell_type": "code",
   "execution_count": 59,
   "id": "7e5d605d-8f95-4603-8c3d-7c578d131a07",
   "metadata": {},
   "outputs": [
    {
     "data": {
      "image/png": "[encoded data removed]",
      "text/plain": [
       "<Figure size 600x400 with 1 Axes>"
      ]
     },
     "metadata": {},
     "output_type": "display_data"
    },
    {
     "data": {
      "image/png": "[encoded data removed]",
      "text/plain": [
       "<Figure size 600x400 with 1 Axes>"
      ]
     },
     "metadata": {},
     "output_type": "display_data"
    },
    {
     "data": {
      "image/png": "[encoded data removed]",
      "text/plain": [
       "<Figure size 600x400 with 1 Axes>"
      ]
     },
     "metadata": {},
     "output_type": "display_data"
    }
   ],
   "source": [
    "def plot_label_distribution(df, title):\n",
    "    label_counts = df['label'].value_counts()\n",
    "    plt.figure(figsize=(6, 4))\n",
    "    bars = plt.bar(label_counts.index.astype(str), label_counts.values)\n",
    "    plt.xlabel('Label')\n",
    "    plt.ylabel('Count')\n",
    "    plt.title(title)\n",
    "\n",
    "    # Display label counts on the bars\n",
    "    for bar in bars:\n",
    "        yval = bar.get_height()\n",
    "        plt.text(bar.get_x() + bar.get_width()/2, yval + 10, yval, ha='center', va='bottom')\n",
    "\n",
    "    plt.show()\n",
    "\n",
    "# Plot label distributions for train, validation, and test sets\n",
    "plot_label_distribution(train_df, 'Train Set Label Distribution')\n",
    "plot_label_distribution(val_df, 'Validation Set Label Distribution')\n",
    "plot_label_distribution(test_df, 'Test Set Label Distribution')"
   ]
  },
  {
   "cell_type": "code",
   "execution_count": 60,
   "id": "3cc37247-3cde-45fd-9ce5-ec95a1664950",
   "metadata": {},
   "outputs": [],
   "source": [
    "save_dir = '/ghphi/data/phi/page_classification_data/'\n",
    "train_df.to_csv(save_dir+\"train_docs_sm.csv\", index=False)\n",
    "val_df.to_csv(save_dir+\"valid_docs_sm.csv\", index=False)\n",
    "test_df.to_csv(save_dir+\"test_docs_sm.csv\", index=False)"
   ]
  },
  {
   "cell_type": "code",
   "execution_count": 61,
   "id": "936668de-8d7d-4483-9130-4d0fb147275d",
   "metadata": {},
   "outputs": [],
   "source": [
    "# verify with clusteirng\n",
    "# Gather filenames from train_df, val_df, and test_df with label 1\n",
    "def labeling_verification(train_df, val_df, test_df):\n",
    "    label_1_filenames = train_df[train_df['label'] == 1]['file_name'].tolist() + \\\n",
    "                        val_df[val_df['label'] == 1]['file_name'].tolist() + \\\n",
    "                        test_df[test_df['label'] == 1]['file_name'].tolist()\n",
    "    \n",
    "    # Count the number of matches in closest_key_file_names\n",
    "    matching_filenames = [filename for filename in label_1_filenames if filename in closest_key_file_names]\n",
    "    num_matches = len(matching_filenames)\n",
    "    total_label_1_files = len(label_1_filenames)\n",
    "    \n",
    "    # Calculate the percentage\n",
    "    percentage_matches = (num_matches / total_label_1_files) * 100 if total_label_1_files > 0 else 0\n",
    "    \n",
    "    print(\"Number of matching filenames:\", num_matches)\n",
    "    print(\"Total number of label 1 files:\", total_label_1_files)\n",
    "    print(\"Percentage of matches:\", percentage_matches)\n"
   ]
  },
  {
   "cell_type": "code",
   "execution_count": 62,
   "id": "77b2134d-a9dc-4784-a2d5-7c4d0b62fe44",
   "metadata": {},
   "outputs": [
    {
     "name": "stdout",
     "output_type": "stream",
     "text": [
      "Number of matching filenames: 61\n",
      "Total number of label 1 files: 98\n",
      "Percentage of matches: 62.244897959183675\n"
     ]
    }
   ],
   "source": [
    "labeling_verification(train_df, val_df, test_df)"
   ]
  },
  {
   "cell_type": "code",
   "execution_count": 63,
   "id": "a23fa58d-5734-4de6-aa26-e31e1ece6e12",
   "metadata": {},
   "outputs": [
    {
     "data": {
      "text/plain": [
       "'/ghdevhome/home/cpan/notebooks/models'"
      ]
     },
     "execution_count": 63,
     "metadata": {},
     "output_type": "execute_result"
    }
   ],
   "source": [
    "pwd"
   ]
  },
  {
   "cell_type": "code",
   "execution_count": null,
   "id": "fe41c27a-bde3-4121-b051-793a8878ceda",
   "metadata": {},
   "outputs": [],
   "source": []
  }
 ],
 "metadata": {
  "kernelspec": {
   "display_name": "Python 3 (ipykernel)",
   "language": "python",
   "name": "python3"
  },
  "language_info": {
   "codemirror_mode": {
    "name": "ipython",
    "version": 3
   },
   "file_extension": ".py",
   "mimetype": "text/x-python",
   "name": "python",
   "nbconvert_exporter": "python",
   "pygments_lexer": "ipython3",
   "version": "3.11.4"
  }
 },
 "nbformat": 4,
 "nbformat_minor": 5
}
