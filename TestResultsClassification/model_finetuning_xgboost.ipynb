{
 "cells": [
  {
   "cell_type": "code",
   "execution_count": 36,
   "id": "8088279b",
   "metadata": {},
   "outputs": [],
   "source": [
    "import numpy as np\n",
    "import pandas as pd\n",
    "import torch\n",
    "from transformers import BertTokenizer, BertModel\n",
    "from sklearn.linear_model import LogisticRegression\n",
    "from sklearn.metrics import accuracy_score\n",
    "from sklearn.linear_model import LogisticRegressionCV\n",
    "from sklearn.model_selection import cross_val_score\n",
    "from sklearn.model_selection import GridSearchCV\n",
    "from sklearn.metrics import f1_score\n",
    "from imblearn.over_sampling import RandomOverSampler\n",
    "from sklearn.svm import SVC\n",
    "from imblearn.over_sampling import SMOTE\n",
    "from sklearn.metrics import classification_report\n",
    "from sklearn.preprocessing import StandardScaler\n",
    "from xgboost import XGBClassifier\n",
    "import re\n",
    "from sklearn.model_selection import GridSearchCV"
   ]
  },
  {
   "cell_type": "code",
   "execution_count": 2,
   "id": "06bbb00e",
   "metadata": {},
   "outputs": [
    {
     "name": "stderr",
     "output_type": "stream",
     "text": [
      "[nltk_data] Downloading package stopwords to /Users/cpan/nltk_data...\n",
      "[nltk_data]   Package stopwords is already up-to-date!\n"
     ]
    },
    {
     "data": {
      "text/plain": [
       "True"
      ]
     },
     "execution_count": 2,
     "metadata": {},
     "output_type": "execute_result"
    }
   ],
   "source": [
    "import nltk\n",
    "from nltk.corpus import stopwords\n",
    "nltk.download('stopwords')"
   ]
  },
  {
   "cell_type": "code",
   "execution_count": 3,
   "id": "05e96ca2",
   "metadata": {},
   "outputs": [],
   "source": [
    "input_dir = '/Users/cpan/OneDrive - Guardant Health/page_classification_data/'\n",
    "train_data = pd.read_csv(input_dir + 'train_docs_sm.csv')\n",
    "valid_data = pd.read_csv(input_dir + 'valid_docs_sm.csv')\n",
    "test_data = pd.read_csv(input_dir + 'test_docs_sm.csv')"
   ]
  },
  {
   "cell_type": "code",
   "execution_count": 76,
   "id": "198bb9a9",
   "metadata": {},
   "outputs": [
    {
     "data": {
      "text/plain": [
       "file_name                                  A0204311/image-007.txt\n",
       "patient_id                                               A0204311\n",
       "page_content    REDACTED Ha To 40204311 GUARDANT 369 DOB SEP 0...\n",
       "label                                                           0\n",
       "Name: 6, dtype: object"
      ]
     },
     "execution_count": 76,
     "metadata": {},
     "output_type": "execute_result"
    }
   ],
   "source": [
    "train_data.iloc[6]"
   ]
  },
  {
   "cell_type": "code",
   "execution_count": 75,
   "id": "ae3ec72c",
   "metadata": {},
   "outputs": [
    {
     "data": {
      "text/plain": [
       "'REDACTED Ha To 40204311 GUARDANT 369 DOB SEP 01 1940 Test Number 4 Tumor Biology Page Guardant360 Tumor Response Map The Guardant360 Tumor Response Map illustrates the variant allele fraction cfDNA of observed somatic variants at each sample submission time point Amplifications are not plotted and only the first and last five test dates are plotted Please see the Physician Portal portal guardanthealth com for the Tumor Response Map with all test dates GUARDANTHEALTH Amore detailed Guardant360 Patient Report is available through our online portal TST PRT 001 V23 0 Pg 2of'"
      ]
     },
     "execution_count": 75,
     "metadata": {},
     "output_type": "execute_result"
    }
   ],
   "source": [
    "train_data.iloc[6]['page_content']"
   ]
  },
  {
   "cell_type": "code",
   "execution_count": 4,
   "id": "09f2fbf5",
   "metadata": {},
   "outputs": [
    {
     "name": "stderr",
     "output_type": "stream",
     "text": [
      "Some weights of the model checkpoint at bert-base-uncased were not used when initializing BertModel: ['cls.predictions.decoder.weight', 'cls.predictions.transform.dense.bias', 'cls.predictions.bias', 'cls.seq_relationship.weight', 'cls.predictions.transform.LayerNorm.bias', 'cls.predictions.transform.dense.weight', 'cls.seq_relationship.bias', 'cls.predictions.transform.LayerNorm.weight']\n",
      "- This IS expected if you are initializing BertModel from the checkpoint of a model trained on another task or with another architecture (e.g. initializing a BertForSequenceClassification model from a BertForPreTraining model).\n",
      "- This IS NOT expected if you are initializing BertModel from the checkpoint of a model that you expect to be exactly identical (initializing a BertForSequenceClassification model from a BertForSequenceClassification model).\n"
     ]
    }
   ],
   "source": [
    "# Initialize the BERT tokenizer and model\n",
    "tokenizer = BertTokenizer.from_pretrained('bert-base-uncased')\n",
    "model = BertModel.from_pretrained('bert-base-uncased')"
   ]
  },
  {
   "cell_type": "code",
   "execution_count": 5,
   "id": "4a9f25fb",
   "metadata": {},
   "outputs": [],
   "source": [
    "def clean_text(text):\n",
    "    # Convert to lowercase\n",
    "    text = text.lower()\n",
    "    \n",
    "    # Remove special characters, digits, and extra spaces\n",
    "    text = re.sub(r'\\W+', ' ', text)\n",
    "    text = re.sub(r'\\d+', ' ', text)\n",
    "    text = re.sub(r'\\s+', ' ', text).strip()\n",
    "    \n",
    "    # Define your custom vocabulary to be added to stopwords\n",
    "    custom_vocab = [\"redacted\", \"redactedredacted\", 'is', 'to', 'of', 'with', 'in', 'no']  # Add your domain-specific terms\n",
    "    \n",
    "    # Combine NLTK stopwords and custom vocabulary\n",
    "    stop_words = set(stopwords.words('english') + custom_vocab)\n",
    "    \n",
    "    words = text.split()\n",
    "    # filter out words that have length less than 2 \n",
    "    filtered_words = [word for word in words if len(word) > 2 and word not in stop_words]\n",
    "    text = ' '.join(filtered_words)\n",
    "    \n",
    "    return text\n",
    "# Function to extract BERT embeddings for text data\n",
    "def extract_bert_features(df):\n",
    "    embeddings = []\n",
    "    for text in df['page_content']:\n",
    "        cleaned_text = clean_text(text)\n",
    "        inputs = tokenizer(cleaned_text, padding=True, truncation=True, return_tensors=\"pt\")\n",
    "        with torch.no_grad():\n",
    "            outputs = model(**inputs)\n",
    "        last_hidden_states = outputs.last_hidden_state\n",
    "        avg_pooling = torch.mean(last_hidden_states, dim=1)\n",
    "        embeddings.append(avg_pooling.squeeze().numpy())\n",
    "    return np.vstack(embeddings)"
   ]
  },
  {
   "cell_type": "code",
   "execution_count": 7,
   "id": "a1206466",
   "metadata": {},
   "outputs": [],
   "source": [
    "# Extract BERT features for train, validation, and test sets\n",
    "train_features = extract_bert_features(train_data)\n",
    "val_features = extract_bert_features(valid_data)\n",
    "test_features = extract_bert_features(test_data)"
   ]
  },
  {
   "cell_type": "code",
   "execution_count": 77,
   "id": "cc4b4ab5",
   "metadata": {},
   "outputs": [
    {
     "data": {
      "text/plain": [
       "(326, 4)"
      ]
     },
     "execution_count": 77,
     "metadata": {},
     "output_type": "execute_result"
    }
   ],
   "source": [
    "test_data.shape"
   ]
  },
  {
   "cell_type": "code",
   "execution_count": 8,
   "id": "336a7c57",
   "metadata": {},
   "outputs": [],
   "source": [
    "X_train = train_features\n",
    "y_train = train_data['label']\n",
    "X_val = val_features\n",
    "y_val = valid_data['label']"
   ]
  },
  {
   "cell_type": "code",
   "execution_count": 9,
   "id": "a6c6fea2",
   "metadata": {},
   "outputs": [],
   "source": [
    "# use SMOTE to oversample minority classes \n",
    "smote = SMOTE(sampling_strategy=0.5, k_neighbors=5)  # Adjust k_neighbors as needed\n",
    "X_train_resampled, y_train_resampled = smote.fit_resample(X_train, y_train)"
   ]
  },
  {
   "cell_type": "code",
   "execution_count": 35,
   "id": "7e745d94",
   "metadata": {},
   "outputs": [
    {
     "data": {
      "text/plain": [
       "['resampled_y_train_ft.joblib']"
      ]
     },
     "execution_count": 35,
     "metadata": {},
     "output_type": "execute_result"
    }
   ],
   "source": [
    "joblib.dump(y_train_resampled, \"resampled_y_train_ft.joblib\")"
   ]
  },
  {
   "cell_type": "code",
   "execution_count": 10,
   "id": "6c9c904b",
   "metadata": {},
   "outputs": [
    {
     "data": {
      "image/png": "[encoded data removed]",
      "text/plain": [
       "<Figure size 800x600 with 1 Axes>"
      ]
     },
     "metadata": {},
     "output_type": "display_data"
    }
   ],
   "source": [
    "import matplotlib.pyplot as plt\n",
    "import seaborn as sns\n",
    "\n",
    "# Count the occurrences of each class in the original and resampled datasets\n",
    "original_class_counts = y_train.value_counts()\n",
    "resampled_class_counts = pd.Series(y_train_resampled).value_counts()\n",
    "\n",
    "# Create a bar plot to visualize class distribution\n",
    "plt.figure(figsize=(8, 6))\n",
    "sns.barplot(x=original_class_counts.index, y=original_class_counts.values, color='blue', alpha=0.6, label='Original')\n",
    "sns.barplot(x=resampled_class_counts.index, y=resampled_class_counts.values, color='orange', alpha=0.6, label='Resampled')\n",
    "\n",
    "# Annotate the bar plots with actual class counts\n",
    "for index, value in enumerate(original_class_counts.values):\n",
    "    plt.text(index, value + 10, str(value), ha='center', va='bottom', fontsize=10, color='blue')\n",
    "\n",
    "for index, value in enumerate(resampled_class_counts.values):\n",
    "    plt.text(index, value + 10, str(value), ha='center', va='bottom', fontsize=10, color='orange')\n",
    "\n",
    "plt.xlabel('Class')\n",
    "plt.ylabel('Count')\n",
    "plt.title('Class Distribution Before and After SMOTE Resampling')\n",
    "plt.legend()\n",
    "plt.show()"
   ]
  },
  {
   "cell_type": "code",
   "execution_count": 14,
   "id": "1ce8d933",
   "metadata": {},
   "outputs": [],
   "source": [
    "X_test = test_features\n",
    "y_test = test_data['label']"
   ]
  },
  {
   "cell_type": "code",
   "execution_count": 15,
   "id": "fc2fa0aa",
   "metadata": {},
   "outputs": [],
   "source": [
    "# standardize the embedding\n",
    "scaler = StandardScaler()\n",
    "\n",
    "# Fit the scaler on the training data and transform features\n",
    "X_train_scaled = scaler.fit_transform(X_train_resampled)\n",
    "X_val_scaled = scaler.transform(X_val)\n",
    "X_test_scaled = scaler.transform(X_test)"
   ]
  },
  {
   "cell_type": "code",
   "execution_count": 16,
   "id": "d06789cc",
   "metadata": {},
   "outputs": [],
   "source": [
    "# Save BERT features to files\n",
    "np.save(input_dir+'bert_train_features_ft_scaled.npy', X_train_scaled)\n",
    "np.save(input_dir+'bert_val_features_ft_scaled.npy', X_val_scaled)\n",
    "np.save(input_dir+'bert_test_features_ft_scaled.npy', X_test_scaled)"
   ]
  },
  {
   "cell_type": "code",
   "execution_count": 18,
   "id": "3239bade",
   "metadata": {},
   "outputs": [],
   "source": [
    "import joblib"
   ]
  },
  {
   "cell_type": "code",
   "execution_count": 20,
   "id": "dab7fac8",
   "metadata": {},
   "outputs": [
    {
     "data": {
      "text/plain": [
       "'/Users/cpan/Desktop/project/notebooks'"
      ]
     },
     "execution_count": 20,
     "metadata": {},
     "output_type": "execute_result"
    }
   ],
   "source": [
    "pwd"
   ]
  },
  {
   "cell_type": "code",
   "execution_count": 22,
   "id": "7c9a326d",
   "metadata": {},
   "outputs": [],
   "source": [
    "best_xgb = joblib.load('/Users/cpan/Desktop/project/notebooks/best_xgb_model_hir.pkl')"
   ]
  },
  {
   "cell_type": "code",
   "execution_count": 46,
   "id": "8bbb7632",
   "metadata": {},
   "outputs": [],
   "source": [
    "# print(best_xgb.get_params())"
   ]
  },
  {
   "cell_type": "code",
   "execution_count": 47,
   "id": "8204d002",
   "metadata": {},
   "outputs": [],
   "source": [
    "# get the best parameters from previous trained xgb \n",
    "# Access the estimator from the loaded model\n",
    "estimator = best_xgb.get_params()['estimator']\n",
    "\n",
    "# Access the hyperparameters from the estimator\n",
    "best_learning_rate = estimator.learning_rate\n",
    "best_max_depth = estimator.max_depth\n",
    "best_n_estimators = estimator.n_estimators\n",
    "best_colsample_bytree = estimator.colsample_bytree"
   ]
  },
  {
   "cell_type": "code",
   "execution_count": 51,
   "id": "45919834",
   "metadata": {},
   "outputs": [
    {
     "name": "stdout",
     "output_type": "stream",
     "text": [
      "None\n",
      "None\n",
      "100\n",
      "None\n"
     ]
    }
   ],
   "source": [
    "print(best_learning_rate)\n",
    "print(best_max_depth)\n",
    "print(best_n_estimators)\n",
    "print(best_colsample_bytree)"
   ]
  },
  {
   "cell_type": "code",
   "execution_count": 52,
   "id": "0d9253c1",
   "metadata": {},
   "outputs": [
    {
     "name": "stdout",
     "output_type": "stream",
     "text": [
      "Best Hyperparameters: {'colsample_bytree': 0.6, 'learning_rate': 0.2, 'max_depth': 4, 'n_estimators': 100}\n",
      "Best F1 Score: 0.9662470862470863\n",
      "              precision    recall  f1-score   support\n",
      "\n",
      "           0       0.97      1.00      0.98       312\n",
      "           1       1.00      0.21      0.35        14\n",
      "\n",
      "    accuracy                           0.97       326\n",
      "   macro avg       0.98      0.61      0.67       326\n",
      "weighted avg       0.97      0.97      0.96       326\n",
      "\n"
     ]
    }
   ],
   "source": [
    "from sklearn.model_selection import GridSearchCV\n",
    "\n",
    "# Define the hyperparameter grid for fine-tuning\n",
    "param_grid = {\n",
    "    'learning_rate': [0.01, 0.1, 0.2],\n",
    "    'max_depth': [3, 4, 5],\n",
    "    'n_estimators': [100, 200, 300],\n",
    "    'colsample_bytree': [0.6, 0.7, 0.8, 0.9],\n",
    "    # Add other hyperparameters you want to tune\n",
    "}\n",
    "\n",
    "# Initialize the previously best-fitted XGBoost model\n",
    "best_xgb = XGBClassifier(\n",
    "    learning_rate=best_learning_rate,\n",
    "    max_depth=best_max_depth,\n",
    "    n_estimators=best_n_estimators,\n",
    "    colsample_bytree=best_colsample_bytree,\n",
    "    # Set other hyperparameters here\n",
    ")\n",
    "\n",
    "# Create an instance of GridSearchCV with the best-fitted model and hyperparameter grid\n",
    "grid_search = GridSearchCV(best_xgb, param_grid, scoring='f1_micro', cv=5)\n",
    "\n",
    "# Fit the grid search on your validation data\n",
    "grid_search.fit(X_train_scaled, y_train_resampled)\n",
    "\n",
    "# Print the best hyperparameters and their corresponding performance score\n",
    "print(\"Best Hyperparameters:\", grid_search.best_params_)\n",
    "print(\"Best F1 Score:\", grid_search.best_score_)\n",
    "\n",
    "# Get the best estimator (model with the best hyperparameters) from the grid search\n",
    "best_xgb_tuned = grid_search.best_estimator_\n",
    "\n",
    "# Use the tuned model for predictions on the test set and evaluate its performance\n",
    "y_pred_tuned = best_xgb_tuned.predict(X_test_scaled)\n",
    "# Print classification report\n",
    "print(classification_report(y_test, y_pred_tuned))\n"
   ]
  },
  {
   "cell_type": "code",
   "execution_count": 66,
   "id": "1f121bdc",
   "metadata": {},
   "outputs": [
    {
     "name": "stdout",
     "output_type": "stream",
     "text": [
      "              precision    recall  f1-score   support\n",
      "\n",
      "           0       0.97      1.00      0.98       312\n",
      "           1       1.00      0.21      0.35        14\n",
      "\n",
      "    accuracy                           0.97       326\n",
      "   macro avg       0.98      0.61      0.67       326\n",
      "weighted avg       0.97      0.97      0.96       326\n",
      "\n"
     ]
    }
   ],
   "source": [
    "print(classification_report(y_test, y_pred_tuned))"
   ]
  },
  {
   "cell_type": "code",
   "execution_count": 53,
   "id": "bd7cda5c",
   "metadata": {},
   "outputs": [
    {
     "name": "stdout",
     "output_type": "stream",
     "text": [
      "Model saved to /Users/cpan/Desktop/project/notebooks/tuned_xgb_model1.pkl\n"
     ]
    }
   ],
   "source": [
    "# Save the trained xgboost model\n",
    "model_path = '/Users/cpan/Desktop/project/notebooks/'\n",
    "model_filename = model_path+'tuned_xgb_model1.pkl'\n",
    "joblib.dump(best_xgb, model_filename)\n",
    "\n",
    "print(\"Model saved to\", model_filename)"
   ]
  },
  {
   "cell_type": "markdown",
   "id": "71257e01",
   "metadata": {},
   "source": [
    "### Error Analysis"
   ]
  },
  {
   "cell_type": "code",
   "execution_count": 54,
   "id": "f584bd81",
   "metadata": {},
   "outputs": [],
   "source": [
    "predictions_df = pd.DataFrame({\"file_name\": test_data[\"file_name\"], 'patient_id': test_data['patient_id'], 'page_content':test_data['page_content'],\"is_test\": y_pred})"
   ]
  },
  {
   "cell_type": "code",
   "execution_count": 55,
   "id": "bb2f79ad",
   "metadata": {},
   "outputs": [
    {
     "name": "stdout",
     "output_type": "stream",
     "text": [
      "(326, 4)\n"
     ]
    }
   ],
   "source": [
    "print(predictions_df.shape)\n",
    "# predictions_df['is_test'].value_counts()print(\"F1-Score:\", f1_score)"
   ]
  },
  {
   "cell_type": "code",
   "execution_count": 64,
   "id": "665a0a84",
   "metadata": {},
   "outputs": [
    {
     "name": "stdout",
     "output_type": "stream",
     "text": [
      "Confusion Matrix:\n",
      "[[312   0]\n",
      " [ 11   3]]\n",
      "\n",
      "Misclassified Examples:\n",
      "Example 1:\n",
      "True Label: 1\n",
      "Predicted Label: 0\n",
      "Text:\n",
      "CTCA Rightfax 1 22 2021 1 35 05 PM PAGE 9 040 Fax b5erver JACKSON REDACTED 6 15 2020 SEP20 534 REDACTED REDACTED 46263197 DOB AUG O1 1994 f Test Number 4 Definitions Somatic Afterations Not Detected ND or variant Characteristics may re dees not pr be present that are below the limit of detaction of this tivity The absence of delectable somatic alterations in circuiatir tumor in sampte 2 ONA interpretations Somatic altera types af yenum ions were NOT detected in th DNA isolated from this patient alterations chetented by GuardantséG This versiue of the Quardantsad tes is of gonomic alterations such as complex rearrangements or gene deletions nlood specirn not validated for toes the other types GUARBANT HE jad Guardtant360 Patient Report antine portat TST PRT 001 V2 Bortal quardanthealth com of to set up an aecount Gontaet Client Services 885 858 REDACTED REDACTED JONNA Page 4 of 5\n",
      "==================================================\n",
      "Example 2:\n",
      "True Label: 1\n",
      "Predicted Label: 0\n",
      "Text:\n",
      "ia WUSM BUWCH Med Noel REDACTED Office Building 2 MRN 107894201 DOB 7 30 1970 Sex F iw Lasley Visit date 3 22 2021 coun University in REDACTED sro erccun reper Physicians Progress Notes Encounter Notes continued Benomics Genetic Testing oo REDACTED BRCA1 2 testing showed No Mutation detected report date 3 1 13 accession 01258664 March 2021 REDACTED myRisk panel test showed no clinically significant mutations 1 2017 Next Gen Sequencing on R iliac met performed at MSKCC MSK IMPACT Panel showed IK3CA H1047R mutation Other mutations identified were TPS3 p R337C two MAPSK1 frameshift ns twe ARIB1A alterations and CDC73 p 514C accession M17 2850 med rec 35536917 date 3 1117 nel 2021 Guardant360 ctONA test was nondiagnostic likely due to no detectable tumor ONA in the lod Malignant neoplasm of ieft breast in female estrogen receptor positive CMS HCC 1013 a 2152016 V Ne matching medication found in this treatment chemotherapy f arf INTERVAL HISTORY The patient is doing well and is not having any bone pain or back pain She continues on letrozole and Ibrance She is awaiting the scheduling of her trips to Dana Farber Cancer Institute for stereotactic radiation The pationt has received her 2nd COVID vaccination and did well with that Past Medical History EG REDACTED ee Breast cancer CMSIHCC Generated by 00001540 at 5 14 21 10 39 AM Page 2\n",
      "==================================================\n",
      "Example 3:\n",
      "True Label: 1\n",
      "Predicted Label: 0\n",
      "Text:\n",
      "To 18772418203 Page 043 of 108 2022 12 01 18 33 46 GMT 5055917000 From 15034367160 VoInial vars Varug REDACTED Patient REDACTED 11 02 2022 Date of Birth 04 17 1979 REDACTED 40321 8 Abdominal ascites Aldactone 3 tablets daily Paracentesis PRN followed by Albumin IV 25 gm 9 See mid level in one week 10 See me in two weeks REDACTED Vinorelbine to 25 mg m2 weekly palliative care until progression 10 19 2022 Decrease dose to 15 mg m2 Chief REDACTED clinical status Discuss plan of care History of Present Illness 10 2018 Patient noticed a mass in left breast underwent mammogram ultrasound and biopsy 10 2018 Referred by Dr REDACTED for newly diagnosed left sided invasive poorly differentiated mammary carcinoma 10 2018 Imaging reveals several masses in the liver 11 2018 Biopsy of the liver is positive for metastatic disease 11 2018 Considering REDACTED REDACTED and REDACTED 11 2018 Evaluation by Dr REDACTED recommended REDACTED REDACTED and REDACTED She will also get REDACTED every 6 months 11 2018 myRisk testing is negative for BRCA mutation 11 2018 Goserelin REDACTED started 12 2018 REDACTED and REDACTED started 01 2019 Patient complains of rash REDACTED and REDACTED was held 02 2019 REDACTED resumed 03 2019 Restarted on REDACTED REDACTED the patient did have a brief episode of swelling and rash after restarting the REDACTED REDACTED MRI shows progression of liver metastases and metastatic disease to the thoracic and lumbar spine Mammogram notes mass in left breast is 2 1 x 2 1 x 1 7 cm compared to 1 9 x 2 1 x 1 4 cm previously REDACTED is at 51 7 REDACTED PET scan notes left breast remains metabolically active Persistent small anterior mediastinal lymph node Right axillary adenopathy has resolved Innumerable liver lesions large lesion in the peripheral aspect of the left lobe adjacent to the spleen REDACTED Liver biopsy shows infiltrating poorly differentiated carcinoma of breast primary 07 2019 MRI of the pelvis is positive for multiple lesions in the pelvis and sacrum MRI of the thighs and femurs are normal 07 2019 Started Adriamycin Cytoxan on 07 16 2019 08 2019 FoundationOne report notes no reportable alterations with companion diagnostic CDx claims Multiple genetic alterations and biomarkers were identified SA stable tumor mutational burden 1 muts Mb REDACTED CCND1 FGF19 FGF3 REDACTED REDACTED MCL1 MDM2 MYC RAD21 REDACTED 08 2019 Evaluation by Dr REDACTED recommended the patient continue on Adriamycin Cytoxan followed by REDACTED and Faslodex should she tolerate this well and not progress Should she progress she does have Clinical trial options for her 08 2019 REDACTED was at 79 8 REDACTED complains of worsening pain and tumor markers are rising imaging will be repeated 09 2019 MRI of the abdomen notes numerous focal liver lesions consistent with metastases increased in bath size and number 09 2019 CT chest notes enhancing spiculated solid mass in the outer portion of the left breast consistent with a primary carcinoma larger than REDACTED scan Lymph node in left axilla probably due to metastatic disease Newly noted 7 mm solid nodule in the left upper lobe medially CT aadamen and pelvis note multiple focal liver lesions consistent with metastatic disease lesions are larger and more numerous 09 2019 Evaluation by Dr REDACTED patient does not qualify for clinical trial 09 2019 DEXA scan notes low bone mass 09 2019 Adriamycin Cytoxan discontinued due to progression Plans to start weekly REDACTED 10 2019 CT notes stable 7 mm lung nodule Stable mildly prominent AP window and left axillary lymph nodes No new or enlarging lymphadenopathy identified No significant change in size in the multiple liver masses 10 2019 Weekly REDACTED started on 10 10 2019 10 2019 REDACTED was at 62 8 on 10 14 2019 11 2019 MRI abdomen Decrease in size in multiple cnhancing liver masses suggestive of improving hcpatic metastatic disease Slight interval improvement in osseous metastatic disease involving the visualized portions of the thoracic and lumbar spine Mild interval decrease in size in an irregular enhancing mass involving the posterior lateral aspect of the left breast CT CAP Stable 7 mm pulmonary node Stable mildly prominent AP window and left axillary lymph nodes Slight interval decrease in size of liver masses consistent with improving hepatic metastatic disease 11 2019 REDACTED was changed from 80 mg m2 weekly to 175 mg m2 every three weeks 01 2020 CA 27 29 is rising 02 2020 Patient transitioned to REDACTED 04 2020 Patient resumed REDACTED due to personal preference 05 2020 CA 27 29 is rising 05 2020 MRI abdomen noted progression 12 01 2022 Page 2 of 10\n",
      "==================================================\n",
      "Example 4:\n",
      "True Label: 1\n",
      "Predicted Label: 0\n",
      "Text:\n",
      "PATIENT COPY conripentiat eee 53737937 myRisk Genetic Result Name REDACTED REDACTED DOB Aug 16 1969 Accession 03568288 BLD Report Date Fab 24 2020 Please contact REDACTED Medical Services at 1 800 469 7423 K 3850 to discuss any questions regarding this result These test results should only be used in conjunetion with the patient s cb i history and any previous analysis of appropriate family members The pahant s clinical history and test results should not be disclosed to a third party unle related to treatment or payment for treatment without the patient s express writer authorization It is strongly recommended hat these results be comrounmated to the patient in a setting that inciudes appropriate genatic consultation REDACTED lest was developed and its performance characteristics determined by REDACTED Genetic Laboratorigs It has not been cleared or approved by the REDACTED Food and Drug Administration FDA The FDA has determined that clearance ar apnroval for laboratory developed tests is not required 2020 REDACTED Ganatics nc 320 REDACTED REDACTED tah 84108 PH 1 800 469 7423 FX 801 584 3613 The format and contents of this reporl are praprietary and may not be copied cr used without permission except for purposes of diagnosing Counseling and treating he patient identified in the report and members of his or her family REDACTED REDACTED myRisk riskBcore REDACTED COLARIS myVision and their respective logas are either trademarks or ragistered trademarks af REDACTED myRisk Genetic Result Genetics Inc in REDACTED and other jurisdictions REDACTED of 2\n",
      "==================================================\n",
      "Example 5:\n",
      "True Label: 1\n",
      "Predicted Label: 0\n",
      "Text:\n",
      "Crossland REDACTED A0451262 GUARDANT 360 DOB OCT 01 1973 Test Number 5 Tumor Biology Page Guardant360 Tumor REDACTED The Guardant360 Tumo REDACTED illustrates the variant allele fraction cfDNA of observed somatic variants at each sample submission Amplifications are not plotted and only the firg and last five test dates are plotted Please see the Physician Portal portal guardanthealth com for the Tumor REDACTED with all test dates Highest Variant Hele MAY 2948020 NOV 10 2020 MAY 27 2021 SEP 14 2021 JAN 03 2022 Detected Altera Biomarker s onfa cfDNA or Amp Alteration Trend REDACTED 0 4 24 D REDACTED REDACTED REDACTED A118V KRAS G12A TP53 K132E REDACTED 0 2 25 4 D REDACTED REDACTED REDACTED 0 4 93 5 D 0 05 REDACTED The table above annotates he variant allele fraction cfDNA detected in this sample listed in descending order See definitions section fd more detail GU R A more detailed Guardant360 Patient Report is available through our online portal 212 39130MNI REDACTED TST PRT 001 REDACTED portal guardanthealth com To set up an account contact Client Services 855 698 8887 Pg 2 of 4\n",
      "==================================================\n",
      "Common Words in Misclassified Examples:\n",
      "low: 79\n",
      "high: 43\n",
      "patient: 30\n",
      "breast: 24\n",
      "cancer: 18\n",
      "risk: 18\n",
      "right: 17\n",
      "tumor: 16\n",
      "history: 16\n",
      "left: 16\n"
     ]
    }
   ],
   "source": [
    "# fine-tune xgboost error analysis\n",
    "from sklearn.metrics import confusion_matrix\n",
    "\n",
    "# Print confusion matrix\n",
    "conf_matrix = confusion_matrix(y_test, y_pred_tuned)\n",
    "print(\"Confusion Matrix:\")\n",
    "print(conf_matrix)\n",
    "\n",
    "# Find indices of misclassified examples\n",
    "misclassified_indices = np.where(y_test != y_pred_tuned)[0]\n",
    "\n",
    "# Print some of the misclassified examples for analysis\n",
    "num_examples_to_print = 5\n",
    "print(\"\\nMisclassified Examples:\")\n",
    "for i in range(min(num_examples_to_print, len(misclassified_indices))):\n",
    "    index = misclassified_indices[i]\n",
    "    print(f\"Example {i+1}:\")\n",
    "    print(\"True Label:\", y_test.iloc[index])\n",
    "    print(\"Predicted Label:\", y_pred_tuned[index])\n",
    "    print(\"Text:\")\n",
    "    print(test_data['page_content'].iloc[index])\n",
    "    print(\"=\"*50)\n",
    "\n",
    "# Analyze common words or phrases in misclassified examples\n",
    "misclassified_text = test_data['page_content'].iloc[misclassified_indices]\n",
    "miclassified_text_clean = [clean_text(text) for text in misclassified_text]\n",
    "common_words = {}\n",
    "for text in miclassified_text_clean:\n",
    "    words = text.split()\n",
    "    for word in words:\n",
    "        if word not in common_words:\n",
    "            common_words[word] = 1\n",
    "        else:\n",
    "            common_words[word] += 1\n",
    "\n",
    "# Print most common words in misclassified examples\n",
    "print(\"Common Words in Misclassified Examples:\")\n",
    "sorted_common_words = sorted(common_words.items(), key=lambda x: x[1], reverse=True)\n",
    "for word, count in sorted_common_words[:10]:\n",
    "    print(f\"{word}: {count}\")"
   ]
  },
  {
   "cell_type": "code",
   "execution_count": 65,
   "id": "21b9170b",
   "metadata": {},
   "outputs": [
    {
     "name": "stdout",
     "output_type": "stream",
     "text": [
      "11\n"
     ]
    }
   ],
   "source": [
    "print(len(misclassified_indices))"
   ]
  },
  {
   "cell_type": "code",
   "execution_count": 58,
   "id": "a8f9e0d5",
   "metadata": {},
   "outputs": [
    {
     "name": "stdout",
     "output_type": "stream",
     "text": [
      "Number of Misclassified Examples Containing 'guardant': 7\n"
     ]
    }
   ],
   "source": [
    "guardant_count = 0\n",
    "\n",
    "# Analyze common words or phrases in misclassified examples\n",
    "misclassified_text = test_data['page_content'].iloc[misclassified_indices]\n",
    "misclassified_text_clean = [clean_text(text) for text in misclassified_text]\n",
    "\n",
    "for text in misclassified_text_clean:\n",
    "    if re.findall(r'\\bguardant\\b', text):  # Using \\b to match whole word \"guardant\"\n",
    "        guardant_count += 1\n",
    "\n",
    "# Print the number of misclassified examples containing \"guardant\" or its part\n",
    "print(\"Number of Misclassified Examples Containing 'guardant':\", guardant_count)"
   ]
  },
  {
   "cell_type": "markdown",
   "id": "93c00ece",
   "metadata": {},
   "source": [
    "#### Filtering out the classification results that are guardant test only (not the final result)"
   ]
  },
  {
   "cell_type": "code",
   "execution_count": 67,
   "id": "4711b254",
   "metadata": {},
   "outputs": [
    {
     "name": "stdout",
     "output_type": "stream",
     "text": [
      "Precision after filtering: 1.0\n",
      "Recall after filtering: 0.42857142857142855\n",
      "F1-Score after filtering: 0.6\n"
     ]
    }
   ],
   "source": [
    "import re\n",
    "\n",
    "# List of competitor test names (not converted to lowercase)\n",
    "company_test_list = ['FoundationOne Liquid', 'Plasma Focus', 'Liquid Hallmark', 'Genestrat, InVisionFirst-Lung',\n",
    "                     'FoundationOne CDx', 'Caris Molecular Intelligence', 'OncoExtra', 'Altera', 'Invitae Cancer Screen', 'MyRisk']\n",
    "not_lower_company_test_list = ['xF', 'xF+', 'Assure', 'xT']\n",
    "\n",
    "# Create a copy of the predictions DataFrame to avoid modifying the original one\n",
    "filtered_predictions_df = predictions_df.copy()\n",
    "\n",
    "# Iterate through each row in the DataFrame\n",
    "for index, row in filtered_predictions_df.iterrows():\n",
    "    text_content = row['page_content']\n",
    "    predicted_test = row['is_test']\n",
    "    \n",
    "    # Use re.findall to find partial matches for \"guardant\" (case-insensitive)\n",
    "    guardant_matches = re.findall(r'guardant', text_content, re.IGNORECASE)\n",
    "    \n",
    "    # Check if the guardant_matches list is not empty and if the predicted test is 1\n",
    "    if guardant_matches and predicted_test == 1:\n",
    "        # Check if any competitor's test name is present in the text content (not converted to lowercase)\n",
    "        if not any(spec_test in text_content for spec_test in not_lower_company_test_list):\n",
    "            # Change the predicted label to 0\n",
    "            filtered_predictions_df.at[index, 'is_test'] = 0\n",
    "        if not any(test.lower() in text_content.lower() for test in company_test_list):\n",
    "            filtered_predictions_df.at[index, 'is_test'] = 0\n",
    "\n",
    "# Assuming y_true contains the true labels and filtered_predictions_df contains the modified predicted labels\n",
    "precision, recall, f1_score, _ = precision_recall_fscore_support(y_test, filtered_predictions_df['is_test'], average='binary')\n",
    "\n",
    "print(\"Precision after filtering:\", precision)\n",
    "print(\"Recall after filtering:\", recall)\n",
    "print(\"F1-Score after filtering:\", f1_score)"
   ]
  },
  {
   "cell_type": "code",
   "execution_count": 69,
   "id": "43b4f556",
   "metadata": {},
   "outputs": [
    {
     "name": "stdout",
     "output_type": "stream",
     "text": [
      "              precision    recall  f1-score   support\n",
      "\n",
      "           0       0.97      1.00      0.99       312\n",
      "           1       1.00      0.43      0.60        14\n",
      "\n",
      "    accuracy                           0.98       326\n",
      "   macro avg       0.99      0.71      0.79       326\n",
      "weighted avg       0.98      0.98      0.97       326\n",
      "\n"
     ]
    }
   ],
   "source": [
    "print(classification_report(y_test, filtered_predictions_df['is_test']))"
   ]
  },
  {
   "cell_type": "code",
   "execution_count": null,
   "id": "898369da",
   "metadata": {},
   "outputs": [],
   "source": []
  }
 ],
 "metadata": {
  "kernelspec": {
   "display_name": "Python 3 (ipykernel)",
   "language": "python",
   "name": "python3"
  },
  "language_info": {
   "codemirror_mode": {
    "name": "ipython",
    "version": 3
   },
   "file_extension": ".py",
   "mimetype": "text/x-python",
   "name": "python",
   "nbconvert_exporter": "python",
   "pygments_lexer": "ipython3",
   "version": "3.10.9"
  }
 },
 "nbformat": 4,
 "nbformat_minor": 5
}
